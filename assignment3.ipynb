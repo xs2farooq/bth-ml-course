{
  "nbformat": 4,
  "nbformat_minor": 0,
  "metadata": {
    "colab": {
      "provenance": [],
      "authorship_tag": "ABX9TyOky+vXOidnDXASr+hQ+/q6",
      "include_colab_link": true
    },
    "kernelspec": {
      "name": "python3",
      "display_name": "Python 3"
    },
    "language_info": {
      "name": "python"
    }
  },
  "cells": [
    {
      "cell_type": "markdown",
      "metadata": {
        "id": "view-in-github",
        "colab_type": "text"
      },
      "source": [
        "<a href=\"https://colab.research.google.com/github/xs2farooq/bth-ml-course/blob/main/assignment3.ipynb\" target=\"_parent\"><img src=\"https://colab.research.google.com/assets/colab-badge.svg\" alt=\"Open In Colab\"/></a>"
      ]
    },
    {
      "cell_type": "code",
      "execution_count": null,
      "metadata": {
        "colab": {
          "base_uri": "https://localhost:8080/"
        },
        "id": "_kOHLnzaG2oP",
        "outputId": "7f6d3ae9-2cac-441e-da29-d9893087f0e3"
      },
      "outputs": [
        {
          "output_type": "stream",
          "name": "stdout",
          "text": [
            "total_count: 5\n",
            "liked_count: 2\n",
            "p_liked: 0.4\n",
            "p_color_given_liked: defaultdict(<class 'int'>, {'Yellow': 1, 'Orange': 1})\n",
            "p_shape_given_liked: defaultdict(<class 'int'>, {'Long': 1, 'Round': 1})\n",
            "p_color_given_liked: defaultdict(<class 'int'>, {'Yellow': 0.5, 'Orange': 0.5})\n",
            "p_shape_given_liked: defaultdict(<class 'int'>, {'Long': 0.5, 'Round': 0.5})\n",
            "Not liked by Alex\n"
          ]
        }
      ],
      "source": [
        "# Import necessary libraries\n",
        "from collections import defaultdict\n",
        "\n",
        "# Define the dataset\n",
        "fruits = [\n",
        "    {'fruit': 'Apple', 'color': 'Red', 'shape': 'Round', 'liked': 'No'},\n",
        "    {'fruit': 'Banana', 'color': 'Yellow', 'shape': 'Long', 'liked': 'Yes'},\n",
        "    {'fruit': 'Orange', 'color': 'Orange', 'shape': 'Round', 'liked': 'Yes'},\n",
        "    {'fruit': 'Lemon', 'color': 'Yellow', 'shape': 'Oval', 'liked': 'No'},\n",
        "    {'fruit': 'Grape', 'color': 'Green', 'shape': 'Round', 'liked': 'No'}\n",
        "]\n",
        "\n",
        "# Calculate probabilities\n",
        "total_count = len(fruits)\n",
        "liked_count = len([f for f in fruits if f['liked'] == 'Yes'])\n",
        "p_liked = liked_count / total_count\n",
        "\n",
        "print(f\"total_count: {total_count}\")\n",
        "print(f\"liked_count: {liked_count}\")\n",
        "print(f\"p_liked: {p_liked}\")\n",
        "\n",
        "# Initialize dictionaries to store conditional probabilities\n",
        "p_color_given_liked = defaultdict(int)\n",
        "p_shape_given_liked = defaultdict(int)\n",
        "\n",
        "# Count occurrences\n",
        "for fruit in fruits:\n",
        "    if fruit['liked'] == 'Yes':\n",
        "        p_color_given_liked[fruit['color']] += 1\n",
        "        p_shape_given_liked[fruit['shape']] += 1\n",
        "\n",
        "print(f\"p_color_given_liked: {p_color_given_liked}\")\n",
        "print(f\"p_shape_given_liked: {p_shape_given_liked}\")\n",
        "\n",
        "# Normalize probabilities\n",
        "for color in p_color_given_liked:\n",
        "    p_color_given_liked[color] /= liked_count\n",
        "\n",
        "for shape in p_shape_given_liked:\n",
        "    p_shape_given_liked[shape] /= liked_count\n",
        "\n",
        "print(f\"p_color_given_liked: {p_color_given_liked}\")\n",
        "print(f\"p_shape_given_liked: {p_shape_given_liked}\")\n",
        "\n",
        "# Function to predict if Alex likes a fruit\n",
        "def predict_like(color, shape):\n",
        "    p_color = sum(1 for f in fruits if f['color'] == color) / total_count\n",
        "    p_shape = sum(1 for f in fruits if f['shape'] == shape) / total_count\n",
        "\n",
        "    p_liked_given_features = (p_color_given_liked[color] *\n",
        "                              p_shape_given_liked[shape] *\n",
        "                              p_liked) / (p_color * p_shape)\n",
        "\n",
        "    if p_liked_given_features > 0.5:\n",
        "        return \"Likely liked by Alex\"\n",
        "    else:\n",
        "        return \"Not liked by Alex\"\n",
        "\n",
        "# Test the classifier\n",
        "print(predict_like('Yellow', 'Round'))  # Example: predicting a yellow, round fruit\n"
      ]
    },
    {
      "cell_type": "code",
      "source": [],
      "metadata": {
        "id": "am6FqoVfG7VM"
      },
      "execution_count": null,
      "outputs": []
    }
  ]
}