{
  "nbformat": 4,
  "nbformat_minor": 0,
  "metadata": {
    "colab": {
      "provenance": [],
      "authorship_tag": "ABX9TyOzmhTgEzQLZGnIqMULXfAq",
      "include_colab_link": true
    },
    "kernelspec": {
      "name": "python3",
      "display_name": "Python 3"
    },
    "language_info": {
      "name": "python"
    }
  },
  "cells": [
    {
      "cell_type": "markdown",
      "metadata": {
        "id": "view-in-github",
        "colab_type": "text"
      },
      "source": [
        "<a href=\"https://colab.research.google.com/github/xs2farooq/bth-ml-course/blob/main/assignment3.ipynb\" target=\"_parent\"><img src=\"https://colab.research.google.com/assets/colab-badge.svg\" alt=\"Open In Colab\"/></a>"
      ]
    },
    {
      "cell_type": "code",
      "execution_count": null,
      "metadata": {
        "colab": {
          "base_uri": "https://localhost:8080/"
        },
        "id": "_kOHLnzaG2oP",
        "outputId": "7f6d3ae9-2cac-441e-da29-d9893087f0e3"
      },
      "outputs": [
        {
          "output_type": "stream",
          "name": "stdout",
          "text": [
            "total_count: 5\n",
            "liked_count: 2\n",
            "p_liked: 0.4\n",
            "p_color_given_liked: defaultdict(<class 'int'>, {'Yellow': 1, 'Orange': 1})\n",
            "p_shape_given_liked: defaultdict(<class 'int'>, {'Long': 1, 'Round': 1})\n",
            "p_color_given_liked: defaultdict(<class 'int'>, {'Yellow': 0.5, 'Orange': 0.5})\n",
            "p_shape_given_liked: defaultdict(<class 'int'>, {'Long': 0.5, 'Round': 0.5})\n",
            "Not liked by Alex\n"
          ]
        }
      ],
      "source": [
        "# Import necessary libraries\n",
        "from collections import defaultdict\n",
        "\n",
        "# Define the dataset\n",
        "fruits = [\n",
        "    {'fruit': 'Apple', 'color': 'Red', 'shape': 'Round', 'liked': 'No'},\n",
        "    {'fruit': 'Banana', 'color': 'Yellow', 'shape': 'Long', 'liked': 'Yes'},\n",
        "    {'fruit': 'Orange', 'color': 'Orange', 'shape': 'Round', 'liked': 'Yes'},\n",
        "    {'fruit': 'Lemon', 'color': 'Yellow', 'shape': 'Oval', 'liked': 'No'},\n",
        "    {'fruit': 'Grape', 'color': 'Green', 'shape': 'Round', 'liked': 'No'}\n",
        "]\n",
        "\n",
        "# Calculate probabilities\n",
        "total_count = len(fruits)\n",
        "liked_count = len([f for f in fruits if f['liked'] == 'Yes'])\n",
        "p_liked = liked_count / total_count\n",
        "\n",
        "print(f\"total_count: {total_count}\")\n",
        "print(f\"liked_count: {liked_count}\")\n",
        "print(f\"p_liked: {p_liked}\")\n",
        "\n",
        "# Initialize dictionaries to store conditional probabilities\n",
        "p_color_given_liked = defaultdict(int)\n",
        "p_shape_given_liked = defaultdict(int)\n",
        "\n",
        "# Count occurrences\n",
        "for fruit in fruits:\n",
        "    if fruit['liked'] == 'Yes':\n",
        "        p_color_given_liked[fruit['color']] += 1\n",
        "        p_shape_given_liked[fruit['shape']] += 1\n",
        "\n",
        "print(f\"p_color_given_liked: {p_color_given_liked}\")\n",
        "print(f\"p_shape_given_liked: {p_shape_given_liked}\")\n",
        "\n",
        "# Normalize probabilities\n",
        "for color in p_color_given_liked:\n",
        "    p_color_given_liked[color] /= liked_count\n",
        "\n",
        "for shape in p_shape_given_liked:\n",
        "    p_shape_given_liked[shape] /= liked_count\n",
        "\n",
        "print(f\"p_color_given_liked: {p_color_given_liked}\")\n",
        "print(f\"p_shape_given_liked: {p_shape_given_liked}\")\n",
        "\n",
        "# Function to predict if Alex likes a fruit\n",
        "def predict_like(color, shape):\n",
        "    p_color = sum(1 for f in fruits if f['color'] == color) / total_count\n",
        "    p_shape = sum(1 for f in fruits if f['shape'] == shape) / total_count\n",
        "\n",
        "    p_liked_given_features = (p_color_given_liked[color] *\n",
        "                              p_shape_given_liked[shape] *\n",
        "                              p_liked) / (p_color * p_shape)\n",
        "\n",
        "    if p_liked_given_features > 0.5:\n",
        "        return \"Likely liked by Alex\"\n",
        "    else:\n",
        "        return \"Not liked by Alex\"\n",
        "\n",
        "# Test the classifier\n",
        "print(predict_like('Yellow', 'Round'))  # Example: predicting a yellow, round fruit\n"
      ]
    },
    {
      "cell_type": "code",
      "source": [
        "# Given probabilities\n",
        "P_Spam = 0.6\n",
        "P_Not_Spam = 0.4\n",
        "\n",
        "# Likelihoods\n",
        "P_D_given_Spam = 0.67\n",
        "P_U_given_Spam = 0.17\n",
        "P_F_given_Spam = 0.5\n",
        "\n",
        "P_D_given_Not_Spam = 0.5\n",
        "P_U_given_Not_Spam = 0.75\n",
        "P_F_given_Not_Spam = 0.5\n",
        "\n",
        "# Calculate joint probabilities\n",
        "P_DUF_given_Spam = P_D_given_Spam * P_U_given_Spam * P_F_given_Spam\n",
        "P_DUF_given_Not_Spam = P_D_given_Not_Spam * P_U_given_Not_Spam * P_F_given_Not_Spam\n",
        "\n",
        "# Calculate posterior probabilities\n",
        "P_Spam_given_DUF = P_DUF_given_Spam * P_Spam\n",
        "P_Not_Spam_given_DUF = P_DUF_given_Not_Spam * P_Not_Spam\n",
        "\n",
        "print(f\"P(Spam | D=1, U=0, F=0): {P_Spam_given_DUF}\")\n",
        "print(f\"P(Not Spam | D=1, U=0, F=0): {P_Not_Spam_given_DUF}\")\n",
        "\n",
        "# Classification decision\n",
        "if P_Spam_given_DUF > P_Not_Spam_given_DUF:\n",
        "    print(\"The email is classified as Spam.\")\n",
        "else:\n",
        "    print(\"The email is classified as Not Spam.\")\n"
      ],
      "metadata": {
        "id": "RbMT8aBt7ee2",
        "outputId": "5b0e7fde-2b39-4fa7-ea12-3f8b815aa714",
        "colab": {
          "base_uri": "https://localhost:8080/"
        }
      },
      "execution_count": null,
      "outputs": [
        {
          "output_type": "stream",
          "name": "stdout",
          "text": [
            "P(Spam | D=1, U=0, F=0): 0.034170000000000006\n",
            "P(Not Spam | D=1, U=0, F=0): 0.07500000000000001\n",
            "The email is classified as Not Spam.\n"
          ]
        }
      ]
    },
    {
      "cell_type": "code",
      "source": [],
      "metadata": {
        "id": "sU_63SUnvx92"
      },
      "execution_count": null,
      "outputs": []
    },
    {
      "cell_type": "code",
      "source": [],
      "metadata": {
        "id": "gTYtrbwbRPy2"
      },
      "execution_count": null,
      "outputs": []
    },
    {
      "cell_type": "code",
      "source": [
        "import numpy as np\n",
        "\n",
        "patients = np.array([\n",
        "    [25, 120, 0],\n",
        "    [30, 110, 1],\n",
        "    [35, 130, 0],\n",
        "    [40, 140, 1],\n",
        "    [45, 115, 0]\n",
        "])\n",
        "\n",
        "# new patient\n",
        "new_patient = np.array([32, 125])\n",
        "\n",
        "def get_distance(new_p, old_p):\n",
        "  print(f\"new_p: {new_p} - old_p: {old_p}\")\n",
        "  return np.sqrt(np.sum((new_p - old_p)**2))\n",
        "\n",
        "for patient in patients:\n",
        "  #print(f\"patient: {patient}\")\n",
        "  age_bp = patient[:2]\n",
        "  distance_result = get_distance(new_patient, age_bp)\n",
        "  #print(f\"age_bp: {age_bp}\")\n",
        "  print(f\"distance_result: {distance_result}\")"
      ],
      "metadata": {
        "id": "am6FqoVfG7VM",
        "colab": {
          "base_uri": "https://localhost:8080/"
        },
        "outputId": "7b9328a2-3146-4cdd-aa95-1c2b052f2b09"
      },
      "execution_count": null,
      "outputs": [
        {
          "output_type": "stream",
          "name": "stdout",
          "text": [
            "new_p: [ 32 125] - old_p: [ 25 120]\n",
            "distance_result: 8.602325267042627\n",
            "new_p: [ 32 125] - old_p: [ 30 110]\n",
            "distance_result: 15.132745950421556\n",
            "new_p: [ 32 125] - old_p: [ 35 130]\n",
            "distance_result: 5.830951894845301\n",
            "new_p: [ 32 125] - old_p: [ 40 140]\n",
            "distance_result: 17.0\n",
            "new_p: [ 32 125] - old_p: [ 45 115]\n",
            "distance_result: 16.401219466856727\n"
          ]
        }
      ]
    },
    {
      "cell_type": "code",
      "source": [
        "import numpy as np\n",
        "result = (96.7499 - (41.4850*12) + (6.6739 * (12*12)) - (0.42864* (12*12*12)) + (0.0096354*(12*12*12*12)))\n",
        "print(result)\n",
        "\n",
        "a = np.square(17 - 16.78)\n",
        "print(a)\n",
        "\n",
        "b = np.square(17 - 19.08)\n",
        "print(b)\n",
        "\n",
        "c = 0.11 * 10**(-3)\n",
        "print(c)"
      ],
      "metadata": {
        "colab": {
          "base_uri": "https://localhost:8080/"
        },
        "id": "M9yBdw9uvzbs",
        "outputId": "39ecd582-d3c6-4bcf-cdf8-9a9bb804012e"
      },
      "execution_count": null,
      "outputs": [
        {
          "output_type": "stream",
          "name": "stdout",
          "text": [
            "19.08123439999997\n",
            "0.0483999999999995\n",
            "4.3263999999999925\n",
            "0.00011\n"
          ]
        }
      ]
    }
  ]
}