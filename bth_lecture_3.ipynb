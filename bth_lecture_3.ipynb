{
  "nbformat": 4,
  "nbformat_minor": 0,
  "metadata": {
    "colab": {
      "provenance": [],
      "authorship_tag": "ABX9TyN5AE5r8w8wKFqr34jB7QZk",
      "include_colab_link": true
    },
    "kernelspec": {
      "name": "python3",
      "display_name": "Python 3"
    },
    "language_info": {
      "name": "python"
    }
  },
  "cells": [
    {
      "cell_type": "markdown",
      "metadata": {
        "id": "view-in-github",
        "colab_type": "text"
      },
      "source": [
        "<a href=\"https://colab.research.google.com/github/xs2farooq/bth-ml-course/blob/main/bth_lecture_3.ipynb\" target=\"_parent\"><img src=\"https://colab.research.google.com/assets/colab-badge.svg\" alt=\"Open In Colab\"/></a>"
      ]
    },
    {
      "cell_type": "code",
      "source": [
        "import numpy as np\n",
        "\n",
        "actual_height = np.array([150, 160, 170])\n",
        "predicted_height = np.array([148, 165, 168])\n",
        "print(actual_height)\n",
        "print(predicted_height)\n",
        "\n",
        "errors = actual_height - predicted_height\n",
        "print(errors)\n",
        "\n",
        "square_error = errors ** 2\n",
        "print(square_error)\n",
        "\n",
        "mean = np.mean(square_error)\n",
        "print(mean)"
      ],
      "metadata": {
        "colab": {
          "base_uri": "https://localhost:8080/"
        },
        "id": "E0_rNyM9BAkA",
        "outputId": "20688541-fd90-4192-ae9c-a958d9e42a00"
      },
      "execution_count": 11,
      "outputs": [
        {
          "output_type": "stream",
          "name": "stdout",
          "text": [
            "[150 160 170]\n",
            "[148 165 168]\n",
            "[ 2 -5  2]\n",
            "[ 4 25  4]\n",
            "11.0\n"
          ]
        }
      ]
    }
  ]
}